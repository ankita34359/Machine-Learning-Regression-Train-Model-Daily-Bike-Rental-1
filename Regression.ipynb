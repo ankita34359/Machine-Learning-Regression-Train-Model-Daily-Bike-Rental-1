{
 "cells": [
  {
   "cell_type": "raw",
   "id": "22edd1c3-640c-46f7-9548-3bf513a60343",
   "metadata": {},
   "source": [
    "Train a Regression Model"
   ]
  },
  {
   "cell_type": "code",
   "execution_count": 13,
   "id": "2a795970-feab-437b-988d-13f5928874d1",
   "metadata": {},
   "outputs": [],
   "source": [
    "import pandas as pd\n",
    "import numpy as np"
   ]
  },
  {
   "cell_type": "code",
   "execution_count": 16,
   "id": "0af45691-b8ac-4dbd-b0d6-c70279adc2d0",
   "metadata": {
    "scrolled": true
   },
   "outputs": [],
   "source": [
    "bike_data = pd.read_csv(\"daily-bike-share_data.csv\")"
   ]
  },
  {
   "cell_type": "code",
   "execution_count": 3,
   "id": "bb86fc5d-1858-447a-9851-4fff9dab6dcd",
   "metadata": {},
   "outputs": [
    {
     "name": "stdout",
     "output_type": "stream",
     "text": [
      "     instant      dteday  season  yr  mnth  holiday  weekday  workingday  \\\n",
      "0          1    1/1/2011       1   0     1        0        6           0   \n",
      "1          2    1/2/2011       1   0     1        0        0           0   \n",
      "2          3    1/3/2011       1   0     1        0        1           1   \n",
      "3          4    1/4/2011       1   0     1        0        2           1   \n",
      "4          5    1/5/2011       1   0     1        0        3           1   \n",
      "..       ...         ...     ...  ..   ...      ...      ...         ...   \n",
      "726      727  12/27/2012       1   1    12        0        4           1   \n",
      "727      728  12/28/2012       1   1    12        0        5           1   \n",
      "728      729  12/29/2012       1   1    12        0        6           0   \n",
      "729      730  12/30/2012       1   1    12        0        0           0   \n",
      "730      731  12/31/2012       1   1    12        0        1           1   \n",
      "\n",
      "     weathersit      temp     atemp       hum  windspeed  rentals  \n",
      "0             2  0.344167  0.363625  0.805833   0.160446      331  \n",
      "1             2  0.363478  0.353739  0.696087   0.248539      131  \n",
      "2             1  0.196364  0.189405  0.437273   0.248309      120  \n",
      "3             1  0.200000  0.212122  0.590435   0.160296      108  \n",
      "4             1  0.226957  0.229270  0.436957   0.186900       82  \n",
      "..          ...       ...       ...       ...        ...      ...  \n",
      "726           2  0.254167  0.226642  0.652917   0.350133      247  \n",
      "727           2  0.253333  0.255046  0.590000   0.155471      644  \n",
      "728           2  0.253333  0.242400  0.752917   0.124383      159  \n",
      "729           1  0.255833  0.231700  0.483333   0.350754      364  \n",
      "730           2  0.215833  0.223487  0.577500   0.154846      439  \n",
      "\n",
      "[731 rows x 14 columns]\n"
     ]
    }
   ],
   "source": [
    "print(bike_data)"
   ]
  },
  {
   "cell_type": "code",
   "execution_count": 4,
   "id": "f83269b0-aec8-46e6-8247-e61077a7bb74",
   "metadata": {},
   "outputs": [
    {
     "data": {
      "text/html": [
       "<div>\n",
       "<style scoped>\n",
       "    .dataframe tbody tr th:only-of-type {\n",
       "        vertical-align: middle;\n",
       "    }\n",
       "\n",
       "    .dataframe tbody tr th {\n",
       "        vertical-align: top;\n",
       "    }\n",
       "\n",
       "    .dataframe thead th {\n",
       "        text-align: right;\n",
       "    }\n",
       "</style>\n",
       "<table border=\"1\" class=\"dataframe\">\n",
       "  <thead>\n",
       "    <tr style=\"text-align: right;\">\n",
       "      <th></th>\n",
       "      <th>instant</th>\n",
       "      <th>dteday</th>\n",
       "      <th>season</th>\n",
       "      <th>yr</th>\n",
       "      <th>mnth</th>\n",
       "      <th>holiday</th>\n",
       "      <th>weekday</th>\n",
       "      <th>workingday</th>\n",
       "      <th>weathersit</th>\n",
       "      <th>temp</th>\n",
       "      <th>atemp</th>\n",
       "      <th>hum</th>\n",
       "      <th>windspeed</th>\n",
       "      <th>rentals</th>\n",
       "    </tr>\n",
       "  </thead>\n",
       "  <tbody>\n",
       "    <tr>\n",
       "      <th>0</th>\n",
       "      <td>1</td>\n",
       "      <td>1/1/2011</td>\n",
       "      <td>1</td>\n",
       "      <td>0</td>\n",
       "      <td>1</td>\n",
       "      <td>0</td>\n",
       "      <td>6</td>\n",
       "      <td>0</td>\n",
       "      <td>2</td>\n",
       "      <td>0.344167</td>\n",
       "      <td>0.363625</td>\n",
       "      <td>0.805833</td>\n",
       "      <td>0.160446</td>\n",
       "      <td>331</td>\n",
       "    </tr>\n",
       "    <tr>\n",
       "      <th>1</th>\n",
       "      <td>2</td>\n",
       "      <td>1/2/2011</td>\n",
       "      <td>1</td>\n",
       "      <td>0</td>\n",
       "      <td>1</td>\n",
       "      <td>0</td>\n",
       "      <td>0</td>\n",
       "      <td>0</td>\n",
       "      <td>2</td>\n",
       "      <td>0.363478</td>\n",
       "      <td>0.353739</td>\n",
       "      <td>0.696087</td>\n",
       "      <td>0.248539</td>\n",
       "      <td>131</td>\n",
       "    </tr>\n",
       "    <tr>\n",
       "      <th>2</th>\n",
       "      <td>3</td>\n",
       "      <td>1/3/2011</td>\n",
       "      <td>1</td>\n",
       "      <td>0</td>\n",
       "      <td>1</td>\n",
       "      <td>0</td>\n",
       "      <td>1</td>\n",
       "      <td>1</td>\n",
       "      <td>1</td>\n",
       "      <td>0.196364</td>\n",
       "      <td>0.189405</td>\n",
       "      <td>0.437273</td>\n",
       "      <td>0.248309</td>\n",
       "      <td>120</td>\n",
       "    </tr>\n",
       "    <tr>\n",
       "      <th>3</th>\n",
       "      <td>4</td>\n",
       "      <td>1/4/2011</td>\n",
       "      <td>1</td>\n",
       "      <td>0</td>\n",
       "      <td>1</td>\n",
       "      <td>0</td>\n",
       "      <td>2</td>\n",
       "      <td>1</td>\n",
       "      <td>1</td>\n",
       "      <td>0.200000</td>\n",
       "      <td>0.212122</td>\n",
       "      <td>0.590435</td>\n",
       "      <td>0.160296</td>\n",
       "      <td>108</td>\n",
       "    </tr>\n",
       "    <tr>\n",
       "      <th>4</th>\n",
       "      <td>5</td>\n",
       "      <td>1/5/2011</td>\n",
       "      <td>1</td>\n",
       "      <td>0</td>\n",
       "      <td>1</td>\n",
       "      <td>0</td>\n",
       "      <td>3</td>\n",
       "      <td>1</td>\n",
       "      <td>1</td>\n",
       "      <td>0.226957</td>\n",
       "      <td>0.229270</td>\n",
       "      <td>0.436957</td>\n",
       "      <td>0.186900</td>\n",
       "      <td>82</td>\n",
       "    </tr>\n",
       "  </tbody>\n",
       "</table>\n",
       "</div>"
      ],
      "text/plain": [
       "   instant    dteday  season  yr  mnth  holiday  weekday  workingday  \\\n",
       "0        1  1/1/2011       1   0     1        0        6           0   \n",
       "1        2  1/2/2011       1   0     1        0        0           0   \n",
       "2        3  1/3/2011       1   0     1        0        1           1   \n",
       "3        4  1/4/2011       1   0     1        0        2           1   \n",
       "4        5  1/5/2011       1   0     1        0        3           1   \n",
       "\n",
       "   weathersit      temp     atemp       hum  windspeed  rentals  \n",
       "0           2  0.344167  0.363625  0.805833   0.160446      331  \n",
       "1           2  0.363478  0.353739  0.696087   0.248539      131  \n",
       "2           1  0.196364  0.189405  0.437273   0.248309      120  \n",
       "3           1  0.200000  0.212122  0.590435   0.160296      108  \n",
       "4           1  0.226957  0.229270  0.436957   0.186900       82  "
      ]
     },
     "execution_count": 4,
     "metadata": {},
     "output_type": "execute_result"
    }
   ],
   "source": [
    "bike_data.head()"
   ]
  },
  {
   "cell_type": "code",
   "execution_count": 5,
   "id": "e341389d-3f5a-4976-b502-72f009b1f966",
   "metadata": {},
   "outputs": [
    {
     "name": "stdout",
     "output_type": "stream",
     "text": [
      "<class 'pandas.core.frame.DataFrame'>\n",
      "RangeIndex: 731 entries, 0 to 730\n",
      "Data columns (total 14 columns):\n",
      " #   Column      Non-Null Count  Dtype  \n",
      "---  ------      --------------  -----  \n",
      " 0   instant     731 non-null    int64  \n",
      " 1   dteday      731 non-null    object \n",
      " 2   season      731 non-null    int64  \n",
      " 3   yr          731 non-null    int64  \n",
      " 4   mnth        731 non-null    int64  \n",
      " 5   holiday     731 non-null    int64  \n",
      " 6   weekday     731 non-null    int64  \n",
      " 7   workingday  731 non-null    int64  \n",
      " 8   weathersit  731 non-null    int64  \n",
      " 9   temp        731 non-null    float64\n",
      " 10  atemp       731 non-null    float64\n",
      " 11  hum         731 non-null    float64\n",
      " 12  windspeed   731 non-null    float64\n",
      " 13  rentals     731 non-null    int64  \n",
      "dtypes: float64(4), int64(9), object(1)\n",
      "memory usage: 80.1+ KB\n"
     ]
    }
   ],
   "source": [
    "bike_data.info()"
   ]
  },
  {
   "cell_type": "code",
   "execution_count": 6,
   "id": "bb349c96-5e4f-4265-9f21-150cc5cb2092",
   "metadata": {},
   "outputs": [
    {
     "data": {
      "text/plain": [
       "pandas.core.frame.DataFrame"
      ]
     },
     "execution_count": 6,
     "metadata": {},
     "output_type": "execute_result"
    }
   ],
   "source": [
    "type(bike_data)"
   ]
  },
  {
   "cell_type": "code",
   "execution_count": 17,
   "id": "dedf2e45-4a94-4508-bbdf-f90b50835e5d",
   "metadata": {},
   "outputs": [],
   "source": [
    "# Separate features and Labels\n",
    "features = [\"season\", \"mnth\", \"holiday\", \"weekday\", \"workingday\", \"weathersit\", \"temp\", \"atemp\", \"hum\", \"windspeed\"]\n",
    "X = bike_data[features].values\n",
    "\n",
    "Y = bike_data[\"rentals\"].values"
   ]
  },
  {
   "cell_type": "code",
   "execution_count": 11,
   "id": "52334dbb-e5f0-4113-a8ea-27c4e6c2b59d",
   "metadata": {},
   "outputs": [
    {
     "data": {
      "text/html": [
       "<div>\n",
       "<style scoped>\n",
       "    .dataframe tbody tr th:only-of-type {\n",
       "        vertical-align: middle;\n",
       "    }\n",
       "\n",
       "    .dataframe tbody tr th {\n",
       "        vertical-align: top;\n",
       "    }\n",
       "\n",
       "    .dataframe thead th {\n",
       "        text-align: right;\n",
       "    }\n",
       "</style>\n",
       "<table border=\"1\" class=\"dataframe\">\n",
       "  <thead>\n",
       "    <tr style=\"text-align: right;\">\n",
       "      <th></th>\n",
       "      <th>season</th>\n",
       "      <th>mnth</th>\n",
       "      <th>holiday</th>\n",
       "      <th>weekday</th>\n",
       "      <th>workingday</th>\n",
       "      <th>weathersit</th>\n",
       "      <th>temp</th>\n",
       "      <th>atemp</th>\n",
       "      <th>hum</th>\n",
       "      <th>windspeed</th>\n",
       "    </tr>\n",
       "  </thead>\n",
       "  <tbody>\n",
       "    <tr>\n",
       "      <th>0</th>\n",
       "      <td>1</td>\n",
       "      <td>1</td>\n",
       "      <td>0</td>\n",
       "      <td>6</td>\n",
       "      <td>0</td>\n",
       "      <td>2</td>\n",
       "      <td>0.344167</td>\n",
       "      <td>0.363625</td>\n",
       "      <td>0.805833</td>\n",
       "      <td>0.160446</td>\n",
       "    </tr>\n",
       "    <tr>\n",
       "      <th>1</th>\n",
       "      <td>1</td>\n",
       "      <td>1</td>\n",
       "      <td>0</td>\n",
       "      <td>0</td>\n",
       "      <td>0</td>\n",
       "      <td>2</td>\n",
       "      <td>0.363478</td>\n",
       "      <td>0.353739</td>\n",
       "      <td>0.696087</td>\n",
       "      <td>0.248539</td>\n",
       "    </tr>\n",
       "    <tr>\n",
       "      <th>2</th>\n",
       "      <td>1</td>\n",
       "      <td>1</td>\n",
       "      <td>0</td>\n",
       "      <td>1</td>\n",
       "      <td>1</td>\n",
       "      <td>1</td>\n",
       "      <td>0.196364</td>\n",
       "      <td>0.189405</td>\n",
       "      <td>0.437273</td>\n",
       "      <td>0.248309</td>\n",
       "    </tr>\n",
       "    <tr>\n",
       "      <th>3</th>\n",
       "      <td>1</td>\n",
       "      <td>1</td>\n",
       "      <td>0</td>\n",
       "      <td>2</td>\n",
       "      <td>1</td>\n",
       "      <td>1</td>\n",
       "      <td>0.200000</td>\n",
       "      <td>0.212122</td>\n",
       "      <td>0.590435</td>\n",
       "      <td>0.160296</td>\n",
       "    </tr>\n",
       "    <tr>\n",
       "      <th>4</th>\n",
       "      <td>1</td>\n",
       "      <td>1</td>\n",
       "      <td>0</td>\n",
       "      <td>3</td>\n",
       "      <td>1</td>\n",
       "      <td>1</td>\n",
       "      <td>0.226957</td>\n",
       "      <td>0.229270</td>\n",
       "      <td>0.436957</td>\n",
       "      <td>0.186900</td>\n",
       "    </tr>\n",
       "    <tr>\n",
       "      <th>...</th>\n",
       "      <td>...</td>\n",
       "      <td>...</td>\n",
       "      <td>...</td>\n",
       "      <td>...</td>\n",
       "      <td>...</td>\n",
       "      <td>...</td>\n",
       "      <td>...</td>\n",
       "      <td>...</td>\n",
       "      <td>...</td>\n",
       "      <td>...</td>\n",
       "    </tr>\n",
       "    <tr>\n",
       "      <th>726</th>\n",
       "      <td>1</td>\n",
       "      <td>12</td>\n",
       "      <td>0</td>\n",
       "      <td>4</td>\n",
       "      <td>1</td>\n",
       "      <td>2</td>\n",
       "      <td>0.254167</td>\n",
       "      <td>0.226642</td>\n",
       "      <td>0.652917</td>\n",
       "      <td>0.350133</td>\n",
       "    </tr>\n",
       "    <tr>\n",
       "      <th>727</th>\n",
       "      <td>1</td>\n",
       "      <td>12</td>\n",
       "      <td>0</td>\n",
       "      <td>5</td>\n",
       "      <td>1</td>\n",
       "      <td>2</td>\n",
       "      <td>0.253333</td>\n",
       "      <td>0.255046</td>\n",
       "      <td>0.590000</td>\n",
       "      <td>0.155471</td>\n",
       "    </tr>\n",
       "    <tr>\n",
       "      <th>728</th>\n",
       "      <td>1</td>\n",
       "      <td>12</td>\n",
       "      <td>0</td>\n",
       "      <td>6</td>\n",
       "      <td>0</td>\n",
       "      <td>2</td>\n",
       "      <td>0.253333</td>\n",
       "      <td>0.242400</td>\n",
       "      <td>0.752917</td>\n",
       "      <td>0.124383</td>\n",
       "    </tr>\n",
       "    <tr>\n",
       "      <th>729</th>\n",
       "      <td>1</td>\n",
       "      <td>12</td>\n",
       "      <td>0</td>\n",
       "      <td>0</td>\n",
       "      <td>0</td>\n",
       "      <td>1</td>\n",
       "      <td>0.255833</td>\n",
       "      <td>0.231700</td>\n",
       "      <td>0.483333</td>\n",
       "      <td>0.350754</td>\n",
       "    </tr>\n",
       "    <tr>\n",
       "      <th>730</th>\n",
       "      <td>1</td>\n",
       "      <td>12</td>\n",
       "      <td>0</td>\n",
       "      <td>1</td>\n",
       "      <td>1</td>\n",
       "      <td>2</td>\n",
       "      <td>0.215833</td>\n",
       "      <td>0.223487</td>\n",
       "      <td>0.577500</td>\n",
       "      <td>0.154846</td>\n",
       "    </tr>\n",
       "  </tbody>\n",
       "</table>\n",
       "<p>731 rows × 10 columns</p>\n",
       "</div>"
      ],
      "text/plain": [
       "     season  mnth  holiday  weekday  workingday  weathersit      temp  \\\n",
       "0         1     1        0        6           0           2  0.344167   \n",
       "1         1     1        0        0           0           2  0.363478   \n",
       "2         1     1        0        1           1           1  0.196364   \n",
       "3         1     1        0        2           1           1  0.200000   \n",
       "4         1     1        0        3           1           1  0.226957   \n",
       "..      ...   ...      ...      ...         ...         ...       ...   \n",
       "726       1    12        0        4           1           2  0.254167   \n",
       "727       1    12        0        5           1           2  0.253333   \n",
       "728       1    12        0        6           0           2  0.253333   \n",
       "729       1    12        0        0           0           1  0.255833   \n",
       "730       1    12        0        1           1           2  0.215833   \n",
       "\n",
       "        atemp       hum  windspeed  \n",
       "0    0.363625  0.805833   0.160446  \n",
       "1    0.353739  0.696087   0.248539  \n",
       "2    0.189405  0.437273   0.248309  \n",
       "3    0.212122  0.590435   0.160296  \n",
       "4    0.229270  0.436957   0.186900  \n",
       "..        ...       ...        ...  \n",
       "726  0.226642  0.652917   0.350133  \n",
       "727  0.255046  0.590000   0.155471  \n",
       "728  0.242400  0.752917   0.124383  \n",
       "729  0.231700  0.483333   0.350754  \n",
       "730  0.223487  0.577500   0.154846  \n",
       "\n",
       "[731 rows x 10 columns]"
      ]
     },
     "execution_count": 11,
     "metadata": {},
     "output_type": "execute_result"
    }
   ],
   "source": [
    "bike_data[features]"
   ]
  },
  {
   "cell_type": "code",
   "execution_count": 12,
   "id": "fa298f08-125c-4947-8131-313ae37a558d",
   "metadata": {},
   "outputs": [
    {
     "data": {
      "text/plain": [
       "array([[ 1.      ,  1.      ,  0.      , ...,  0.363625,  0.805833,\n",
       "         0.160446],\n",
       "       [ 1.      ,  1.      ,  0.      , ...,  0.353739,  0.696087,\n",
       "         0.248539],\n",
       "       [ 1.      ,  1.      ,  0.      , ...,  0.189405,  0.437273,\n",
       "         0.248309],\n",
       "       ...,\n",
       "       [ 1.      , 12.      ,  0.      , ...,  0.2424  ,  0.752917,\n",
       "         0.124383],\n",
       "       [ 1.      , 12.      ,  0.      , ...,  0.2317  ,  0.483333,\n",
       "         0.350754],\n",
       "       [ 1.      , 12.      ,  0.      , ...,  0.223487,  0.5775  ,\n",
       "         0.154846]])"
      ]
     },
     "execution_count": 12,
     "metadata": {},
     "output_type": "execute_result"
    }
   ],
   "source": [
    "# Get the values in the form of numpy array\n",
    "bike_data[features].values"
   ]
  },
  {
   "cell_type": "code",
   "execution_count": 14,
   "id": "f79309f5-014d-40e5-b371-e9c7f7d90684",
   "metadata": {},
   "outputs": [
    {
     "name": "stdout",
     "output_type": "stream",
     "text": [
      "Features:\n",
      "[[1.        1.        0.        6.        0.        2.        0.344167\n",
      "  0.363625  0.805833  0.160446 ]\n",
      " [1.        1.        0.        0.        0.        2.        0.363478\n",
      "  0.353739  0.696087  0.248539 ]\n",
      " [1.        1.        0.        1.        1.        1.        0.196364\n",
      "  0.189405  0.437273  0.248309 ]\n",
      " [1.        1.        0.        2.        1.        1.        0.2\n",
      "  0.212122  0.590435  0.160296 ]\n",
      " [1.        1.        0.        3.        1.        1.        0.226957\n",
      "  0.22927   0.436957  0.1869   ]\n",
      " [1.        1.        0.        4.        1.        1.        0.204348\n",
      "  0.233209  0.518261  0.0895652]\n",
      " [1.        1.        0.        5.        1.        2.        0.196522\n",
      "  0.208839  0.498696  0.168726 ]\n",
      " [1.        1.        0.        6.        0.        2.        0.165\n",
      "  0.162254  0.535833  0.266804 ]\n",
      " [1.        1.        0.        0.        0.        1.        0.138333\n",
      "  0.116175  0.434167  0.36195  ]\n",
      " [1.        1.        0.        1.        1.        1.        0.150833\n",
      "  0.150888  0.482917  0.223267 ]]\n",
      "\n",
      "Labels:\n",
      "[331 131 120 108  82  88 148  68  54  41]\n"
     ]
    }
   ],
   "source": [
    "# Printing the features and labels\n",
    "print(\"Features:\", X[:10], '\\nLabels:', Y[:10], sep='\\n')"
   ]
  },
  {
   "cell_type": "markdown",
   "id": "c1f04559-eca7-4b6f-9788-6eb3ad1ada04",
   "metadata": {},
   "source": [
    "Train and Testing"
   ]
  },
  {
   "cell_type": "code",
   "execution_count": 18,
   "id": "87850921-f73a-46ab-b7bb-84c91cc3cf82",
   "metadata": {},
   "outputs": [],
   "source": [
    "from sklearn.model_selection import train_test_split"
   ]
  },
  {
   "cell_type": "code",
   "execution_count": 20,
   "id": "d50c93bc-2b62-49e9-a2f5-677cd4b1f576",
   "metadata": {},
   "outputs": [],
   "source": [
    "# Spilt data 70%-30% into training and test set\n",
    "X_train, X_test, Y_train, Y_test = train_test_split(X, Y, test_size=0.30)\n",
    "\n",
    "# '''\n",
    "# X_train: training data feature\n",
    "# X_test: testing data feature\n",
    "# Y_train: training data target\n",
    "# Y_test: testing data target\n",
    "# '''"
   ]
  },
  {
   "cell_type": "code",
   "execution_count": 21,
   "id": "7bcf69c3-e2fe-4b54-82d6-f54bd5ffa006",
   "metadata": {},
   "outputs": [
    {
     "data": {
      "text/plain": [
       "array([ 634,  190, 1196,  563,   46,   47,  987,  956, 1328,  244,   72,\n",
       "         89, 2224,  676, 2643, 1455,  140, 1059, 1139,  153,  768,  359,\n",
       "        560, 1017,  661,  190,  989, 1208, 1008, 2282, 2006, 1153,  673,\n",
       "         38,   34,  998, 1559,  314,  625,  117, 3410,   42, 1250, 1935,\n",
       "         15,   41,  834, 2634,  997,  538, 2557, 1156,  198,  921, 1029,\n",
       "       1081,  203,  611,  692,  867,  606,  439, 1259,  614,  290,   38,\n",
       "        639, 3031, 1095, 2454,  871,  647,  729,  244,  120,  819,  326,\n",
       "        863,  667,  269, 1263, 3065, 2469,  747,  764,  342, 1128,  745,\n",
       "        981, 2570,  221,  830, 1576, 2172, 1544,  762, 2090, 1424,  678,\n",
       "        665,  471,  879,  482,  371,  120,  377,  905,  753, 1236,  108,\n",
       "       1516,  288,  531,  204,  303,   54,   54,  601,  954, 2355,  370,\n",
       "        640,  268,  449, 1511,  480,  810, 1074, 1313,  968, 1065, 2795,\n",
       "        255,  878, 1097,   25,  195, 1038, 2622,  126, 1051, 1180,  723,\n",
       "        653,  734,  131,  907,  401,  955, 1140, 1050,  121, 2153, 1120,\n",
       "        568,  324,  440,  107,  767,  662,  321,    9,  781, 1405,  466,\n",
       "       2397,  188, 2795,  135,  123,  126, 2207,  854,  329,  547,  516,\n",
       "        532,  874,  551, 1069,  140,  616, 1036,  325, 1014, 1249, 1750,\n",
       "        518,   88, 1558,  655,  888,  251,  758,  191,  282,  227,  139,\n",
       "        709, 1027,  261,  456, 1207,  163, 1275,  841,  618,  247,  309,\n",
       "       1004, 1379, 1619, 1483,  254,  690, 2132,  773,  515,  254, 1434],\n",
       "      dtype=int64)"
      ]
     },
     "execution_count": 21,
     "metadata": {},
     "output_type": "execute_result"
    }
   ],
   "source": [
    "Y_test"
   ]
  },
  {
   "cell_type": "code",
   "execution_count": 22,
   "id": "35c347ae-e579-4cd5-aa4b-3b0cd98f3b3b",
   "metadata": {},
   "outputs": [],
   "source": [
    "# Train the model\n",
    "from sklearn.linear_model import LinearRegression"
   ]
  },
  {
   "cell_type": "code",
   "execution_count": 23,
   "id": "0042f218-b467-453b-9b0d-c6899b0efa2b",
   "metadata": {},
   "outputs": [
    {
     "name": "stdout",
     "output_type": "stream",
     "text": [
      "LinearRegression()\n"
     ]
    }
   ],
   "source": [
    "# Fit a linear regression model on the training set\n",
    "\n",
    "model = LinearRegression().fit(X_train, Y_train)\n",
    "print(model)"
   ]
  },
  {
   "cell_type": "markdown",
   "id": "d7238474-746d-4d30-bd61-702db14fb684",
   "metadata": {},
   "source": [
    "Evaluate the Trained Model"
   ]
  },
  {
   "cell_type": "code",
   "execution_count": 24,
   "id": "c2ee58b4-8adb-4a05-909a-8b86ac355eee",
   "metadata": {},
   "outputs": [],
   "source": [
    "import numpy as np\n",
    "predictions = model.predict(X_test)"
   ]
  },
  {
   "cell_type": "code",
   "execution_count": 25,
   "id": "a815b2d5-aa33-43d1-8834-b1745e9ed1bf",
   "metadata": {},
   "outputs": [
    {
     "name": "stdout",
     "output_type": "stream",
     "text": [
      "Predicted labels:  [1104.  315. 1219. 1264.  573. -117. 2437. 1290. 1126.  611.]\n",
      "Actual labels:  [ 634  190 1196  563   46   47  987  956 1328  244]\n"
     ]
    }
   ],
   "source": [
    "# Predicted\n",
    "print(\"Predicted labels: \", np.round(predictions, 0)[:10])\n",
    "print(\"Actual labels: \", Y_test[:10])"
   ]
  },
  {
   "cell_type": "code",
   "execution_count": null,
   "id": "a55e2228-92f8-4a89-8466-3a9e79a5f9e1",
   "metadata": {},
   "outputs": [],
   "source": []
  }
 ],
 "metadata": {
  "kernelspec": {
   "display_name": "Python 3 (ipykernel)",
   "language": "python",
   "name": "python3"
  },
  "language_info": {
   "codemirror_mode": {
    "name": "ipython",
    "version": 3
   },
   "file_extension": ".py",
   "mimetype": "text/x-python",
   "name": "python",
   "nbconvert_exporter": "python",
   "pygments_lexer": "ipython3",
   "version": "3.11.2"
  }
 },
 "nbformat": 4,
 "nbformat_minor": 5
}
